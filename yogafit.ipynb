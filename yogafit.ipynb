{
 "cells": [
  {
   "cell_type": "markdown",
   "id": "573da2bf",
   "metadata": {
    "papermill": {
     "duration": 0.004465,
     "end_time": "2025-02-18T22:22:31.028528",
     "exception": false,
     "start_time": "2025-02-18T22:22:31.024063",
     "status": "completed"
    },
    "tags": []
   },
   "source": [
    "******DON'T FORGET TO UPVOTE******"
   ]
  },
  {
   "cell_type": "code",
   "execution_count": null,
   "id": "4c898786",
   "metadata": {
    "_cell_guid": "b1076dfc-b9ad-4769-8c92-a6c4dae69d19",
    "_uuid": "8f2839f25d086af736a60e9eeb907d3b93b6e0e5",
    "execution": {
     "iopub.execute_input": "2025-02-18T22:15:09.575795Z",
     "iopub.status.busy": "2025-02-18T22:15:09.575417Z",
     "iopub.status.idle": "2025-02-18T22:15:09.582046Z",
     "shell.execute_reply": "2025-02-18T22:15:09.580881Z",
     "shell.execute_reply.started": "2025-02-18T22:15:09.575765Z"
    },
    "papermill": {
     "duration": null,
     "end_time": null,
     "exception": false,
     "start_time": "2025-02-18T22:22:31.032401",
     "status": "running"
    },
    "tags": []
   },
   "outputs": [],
   "source": [
    "\n",
    "import matplotlib.pyplot as plt\n",
    "import imageio\n",
    "import matplotlib.image as img\n",
    "from tensorflow.keras.preprocessing import image\n",
    "import numpy as np\n",
    "\n",
    "import pathlib\n",
    "from pathlib import Path\n",
    "\n",
    "\n",
    "\n",
    "from tensorflow.keras.preprocessing import image_dataset_from_directory\n",
    "from tensorflow.keras.preprocessing.image import ImageDataGenerator\n",
    "import os\n",
    "from tensorflow.keras.models import load_model\n",
    "from PIL import Image\n",
    "\n",
    "import tensorflow as tf\n",
    "from tensorflow.keras import Sequential\n",
    "from keras.layers import *\n",
    "\n",
    "import warnings\n",
    "warnings.filterwarnings(\"ignore\")"
   ]
  },
  {
   "cell_type": "code",
   "execution_count": null,
   "id": "268c45d4",
   "metadata": {
    "execution": {
     "iopub.execute_input": "2025-02-18T22:15:09.584838Z",
     "iopub.status.busy": "2025-02-18T22:15:09.583885Z",
     "iopub.status.idle": "2025-02-18T22:15:09.603084Z",
     "shell.execute_reply": "2025-02-18T22:15:09.602341Z",
     "shell.execute_reply.started": "2025-02-18T22:15:09.584801Z"
    },
    "papermill": {
     "duration": null,
     "end_time": null,
     "exception": null,
     "start_time": null,
     "status": "pending"
    },
    "tags": []
   },
   "outputs": [],
   "source": [
    "train_path=pathlib.Path('/kaggle/input/yoga-16/yoga16-dataset/train')\n",
    "test_path=pathlib.Path('/kaggle/input/yoga-16/yoga16-dataset/test')\n",
    "val_path=pathlib.Path('/kaggle/input/yoga-16/yoga16-dataset/val')"
   ]
  },
  {
   "cell_type": "code",
   "execution_count": null,
   "id": "a56efb80",
   "metadata": {
    "execution": {
     "iopub.execute_input": "2025-02-18T22:15:09.604265Z",
     "iopub.status.busy": "2025-02-18T22:15:09.603943Z",
     "iopub.status.idle": "2025-02-18T22:15:09.616805Z",
     "shell.execute_reply": "2025-02-18T22:15:09.616032Z",
     "shell.execute_reply.started": "2025-02-18T22:15:09.604229Z"
    },
    "papermill": {
     "duration": null,
     "end_time": null,
     "exception": null,
     "start_time": null,
     "status": "pending"
    },
    "tags": []
   },
   "outputs": [],
   "source": [
    "image_classes=os.listdir(train_path)\n",
    "image_classes"
   ]
  },
  {
   "cell_type": "code",
   "execution_count": null,
   "id": "a72517c0",
   "metadata": {
    "execution": {
     "iopub.execute_input": "2025-02-18T22:16:51.124120Z",
     "iopub.status.busy": "2025-02-18T22:16:51.123775Z",
     "iopub.status.idle": "2025-02-18T22:16:51.132321Z",
     "shell.execute_reply": "2025-02-18T22:16:51.131430Z",
     "shell.execute_reply.started": "2025-02-18T22:16:51.124082Z"
    },
    "papermill": {
     "duration": null,
     "end_time": null,
     "exception": null,
     "start_time": null,
     "status": "pending"
    },
    "tags": []
   },
   "outputs": [],
   "source": [
    "def plot_images (image_classes):\n",
    "    \n",
    "    plt.figure(figsize=(12,12))\n",
    "    \n",
    "    for i, category in enumerate (image_classes):\n",
    "        \n",
    "        image_path= train_path / category\n",
    "        image_in_folder=os.listdir(image_path)\n",
    "        \n",
    "        first_image=image_in_folder[0]\n",
    "        first_image_path=image_path / first_image\n",
    "        \n",
    "        img=image.load_img(first_image_path)\n",
    "        img_array=image.img_to_array(img) / 255\n",
    "        \n",
    "        plt.subplot(4,4, i+1)\n",
    "        plt.imshow(img_array)\n",
    "        plt.title(category)\n",
    "        plt.axis('off')\n",
    "        \n",
    "plt.show()    "
   ]
  },
  {
   "cell_type": "code",
   "execution_count": null,
   "id": "8517cda2",
   "metadata": {
    "execution": {
     "iopub.execute_input": "2025-02-18T22:15:09.625546Z",
     "iopub.status.busy": "2025-02-18T22:15:09.625200Z",
     "iopub.status.idle": "2025-02-18T22:15:14.388166Z",
     "shell.execute_reply": "2025-02-18T22:15:14.387258Z",
     "shell.execute_reply.started": "2025-02-18T22:15:09.625506Z"
    },
    "papermill": {
     "duration": null,
     "end_time": null,
     "exception": null,
     "start_time": null,
     "status": "pending"
    },
    "tags": []
   },
   "outputs": [],
   "source": [
    "plot_images(image_classes)"
   ]
  },
  {
   "cell_type": "code",
   "execution_count": null,
   "id": "a5ad90fe",
   "metadata": {
    "execution": {
     "iopub.execute_input": "2025-02-18T22:15:14.389513Z",
     "iopub.status.busy": "2025-02-18T22:15:14.389219Z",
     "iopub.status.idle": "2025-02-18T22:15:14.393831Z",
     "shell.execute_reply": "2025-02-18T22:15:14.392895Z",
     "shell.execute_reply.started": "2025-02-18T22:15:14.389484Z"
    },
    "papermill": {
     "duration": null,
     "end_time": null,
     "exception": null,
     "start_time": null,
     "status": "pending"
    },
    "tags": []
   },
   "outputs": [],
   "source": [
    "image_generator=ImageDataGenerator(rescale=1/255,validation_split=0.2)"
   ]
  },
  {
   "cell_type": "code",
   "execution_count": null,
   "id": "37c704cc",
   "metadata": {
    "execution": {
     "iopub.execute_input": "2025-02-18T22:15:14.395992Z",
     "iopub.status.busy": "2025-02-18T22:15:14.395124Z",
     "iopub.status.idle": "2025-02-18T22:15:14.582831Z",
     "shell.execute_reply": "2025-02-18T22:15:14.581972Z",
     "shell.execute_reply.started": "2025-02-18T22:15:14.395943Z"
    },
    "papermill": {
     "duration": null,
     "end_time": null,
     "exception": null,
     "start_time": null,
     "status": "pending"
    },
    "tags": []
   },
   "outputs": [],
   "source": [
    "train_data=image_generator.flow_from_directory(train_path,\n",
    "                                               target_size=(224,224),\n",
    "                                              batch_size=32,\n",
    "                                              shuffle=True,\n",
    "                                              class_mode='categorical',\n",
    "                                              subset='training')\n"
   ]
  },
  {
   "cell_type": "code",
   "execution_count": null,
   "id": "40e5d125",
   "metadata": {},
   "outputs": [],
   "source": []
  },
  {
   "cell_type": "code",
   "execution_count": null,
   "id": "47d2a7ed",
   "metadata": {
    "execution": {
     "iopub.execute_input": "2025-02-18T22:15:14.584104Z",
     "iopub.status.busy": "2025-02-18T22:15:14.583863Z",
     "iopub.status.idle": "2025-02-18T22:15:14.605696Z",
     "shell.execute_reply": "2025-02-18T22:15:14.605064Z",
     "shell.execute_reply.started": "2025-02-18T22:15:14.584080Z"
    },
    "papermill": {
     "duration": null,
     "end_time": null,
     "exception": null,
     "start_time": null,
     "status": "pending"
    },
    "tags": []
   },
   "outputs": [],
   "source": [
    "test_data=image_generator.flow_from_directory(train_path,\n",
    "                                               target_size=(224,224),\n",
    "                                              batch_size=1,\n",
    "                                              shuffle=False,\n",
    "                                              class_mode='categorical',\n",
    "                                              subset='validation')"
   ]
  },
  {
   "cell_type": "code",
   "execution_count": null,
   "id": "e9cd1c27",
   "metadata": {
    "execution": {
     "iopub.execute_input": "2025-02-18T22:15:14.606753Z",
     "iopub.status.busy": "2025-02-18T22:15:14.606499Z",
     "iopub.status.idle": "2025-02-18T22:15:14.611052Z",
     "shell.execute_reply": "2025-02-18T22:15:14.610191Z",
     "shell.execute_reply.started": "2025-02-18T22:15:14.606730Z"
    },
    "papermill": {
     "duration": null,
     "end_time": null,
     "exception": null,
     "start_time": null,
     "status": "pending"
    },
    "tags": []
   },
   "outputs": [],
   "source": [
    "print(test_data.image_shape)\n",
    "print(train_data.image_shape)"
   ]
  },
  {
   "cell_type": "code",
   "execution_count": null,
   "id": "10f942f1",
   "metadata": {
    "execution": {
     "iopub.execute_input": "2025-02-18T22:15:14.612235Z",
     "iopub.status.busy": "2025-02-18T22:15:14.611913Z",
     "iopub.status.idle": "2025-02-18T22:15:15.607452Z",
     "shell.execute_reply": "2025-02-18T22:15:15.606286Z",
     "shell.execute_reply.started": "2025-02-18T22:15:14.612209Z"
    },
    "papermill": {
     "duration": null,
     "end_time": null,
     "exception": null,
     "start_time": null,
     "status": "pending"
    },
    "tags": []
   },
   "outputs": [],
   "source": [
    "model = Sequential()\n",
    "\n",
    "model.add(Conv2D(filters=128, kernel_size=3, padding='same', activation='relu', input_shape=[224, 224, 3]))\n",
    "model.add(MaxPooling2D(pool_size=(2, 2)))\n",
    "\n",
    "\n",
    "model.add(Conv2D(filters=128, kernel_size=3, padding='same', activation='relu'))\n",
    "model.add(MaxPooling2D(pool_size=(2, 2)))\n",
    "\n",
    "model.add(Conv2D(filters=64, kernel_size=3, padding='same', activation='relu'))  \n",
    "model.add(MaxPooling2D(pool_size=(2, 2)))\n",
    "\n",
    "\n",
    "model.add(Flatten())\n",
    "\n",
    "model.add(Dense(128, activation='relu'))  \n",
    "model.add(Dropout(0.5))  \n",
    "\n",
    "model.add(Dense(16, activation='softmax'))"
   ]
  },
  {
   "cell_type": "code",
   "execution_count": null,
   "id": "a75ae4e2",
   "metadata": {
    "execution": {
     "iopub.execute_input": "2025-02-18T22:15:15.609220Z",
     "iopub.status.busy": "2025-02-18T22:15:15.608928Z",
     "iopub.status.idle": "2025-02-18T22:15:15.635244Z",
     "shell.execute_reply": "2025-02-18T22:15:15.634466Z",
     "shell.execute_reply.started": "2025-02-18T22:15:15.609194Z"
    },
    "papermill": {
     "duration": null,
     "end_time": null,
     "exception": null,
     "start_time": null,
     "status": "pending"
    },
    "tags": []
   },
   "outputs": [],
   "source": [
    "model.summary()"
   ]
  },
  {
   "cell_type": "code",
   "execution_count": null,
   "id": "d0ef8b8a",
   "metadata": {
    "execution": {
     "iopub.execute_input": "2025-02-18T22:15:15.638828Z",
     "iopub.status.busy": "2025-02-18T22:15:15.638208Z",
     "iopub.status.idle": "2025-02-18T22:15:15.653707Z",
     "shell.execute_reply": "2025-02-18T22:15:15.652701Z",
     "shell.execute_reply.started": "2025-02-18T22:15:15.638791Z"
    },
    "papermill": {
     "duration": null,
     "end_time": null,
     "exception": null,
     "start_time": null,
     "status": "pending"
    },
    "tags": []
   },
   "outputs": [],
   "source": [
    "model.compile(optimizer='adam',\n",
    "             loss='categorical_crossentropy',\n",
    "             metrics=['accuracy'])"
   ]
  },
  {
   "cell_type": "code",
   "execution_count": null,
   "id": "a22e4222",
   "metadata": {
    "execution": {
     "iopub.execute_input": "2025-02-18T22:15:15.655197Z",
     "iopub.status.busy": "2025-02-18T22:15:15.654822Z",
     "iopub.status.idle": "2025-02-18T22:16:42.760289Z",
     "shell.execute_reply": "2025-02-18T22:16:42.759603Z",
     "shell.execute_reply.started": "2025-02-18T22:15:15.655162Z"
    },
    "papermill": {
     "duration": null,
     "end_time": null,
     "exception": null,
     "start_time": null,
     "status": "pending"
    },
    "tags": []
   },
   "outputs": [],
   "source": [
    "model_history=model.fit(train_data,epochs=10,validation_data=test_data)"
   ]
  },
  {
   "cell_type": "code",
   "execution_count": null,
   "id": "27df0bf8",
   "metadata": {
    "execution": {
     "iopub.execute_input": "2025-02-18T22:19:54.189513Z",
     "iopub.status.busy": "2025-02-18T22:19:54.189161Z",
     "iopub.status.idle": "2025-02-18T22:19:54.403870Z",
     "shell.execute_reply": "2025-02-18T22:19:54.402927Z",
     "shell.execute_reply.started": "2025-02-18T22:19:54.189483Z"
    },
    "papermill": {
     "duration": null,
     "end_time": null,
     "exception": null,
     "start_time": null,
     "status": "pending"
    },
    "tags": []
   },
   "outputs": [],
   "source": [
    "plt.plot(model_history.history['loss'],label='train_loss')\n",
    "plt.plot(model_history.history['val_loss'],label='validation_loss')"
   ]
  },
  {
   "cell_type": "code",
   "execution_count": null,
   "id": "c8afe28e",
   "metadata": {
    "execution": {
     "iopub.execute_input": "2025-02-18T22:16:42.903676Z",
     "iopub.status.busy": "2025-02-18T22:16:42.903312Z",
     "iopub.status.idle": "2025-02-18T22:16:43.104877Z",
     "shell.execute_reply": "2025-02-18T22:16:43.104066Z",
     "shell.execute_reply.started": "2025-02-18T22:16:42.903639Z"
    },
    "papermill": {
     "duration": null,
     "end_time": null,
     "exception": null,
     "start_time": null,
     "status": "pending"
    },
    "tags": []
   },
   "outputs": [],
   "source": [
    "plt.plot(model_history.history['accuracy'],label='train_accuracy')\n",
    "plt.plot(model_history.history['val_accuracy'],label='validation_accuracy')"
   ]
  },
  {
   "cell_type": "code",
   "execution_count": null,
   "id": "5e1ff9d3",
   "metadata": {
    "execution": {
     "iopub.execute_input": "2025-02-18T22:16:43.106335Z",
     "iopub.status.busy": "2025-02-18T22:16:43.105987Z",
     "iopub.status.idle": "2025-02-18T22:16:48.155873Z",
     "shell.execute_reply": "2025-02-18T22:16:48.154932Z",
     "shell.execute_reply.started": "2025-02-18T22:16:43.106289Z"
    },
    "papermill": {
     "duration": null,
     "end_time": null,
     "exception": null,
     "start_time": null,
     "status": "pending"
    },
    "tags": []
   },
   "outputs": [],
   "source": [
    "model.evaluate(train_data)"
   ]
  },
  {
   "cell_type": "code",
   "execution_count": null,
   "id": "66fe4400",
   "metadata": {
    "execution": {
     "iopub.execute_input": "2025-02-18T22:16:48.157277Z",
     "iopub.status.busy": "2025-02-18T22:16:48.157002Z",
     "iopub.status.idle": "2025-02-18T22:16:49.236415Z",
     "shell.execute_reply": "2025-02-18T22:16:49.235647Z",
     "shell.execute_reply.started": "2025-02-18T22:16:48.157250Z"
    },
    "papermill": {
     "duration": null,
     "end_time": null,
     "exception": null,
     "start_time": null,
     "status": "pending"
    },
    "tags": []
   },
   "outputs": [],
   "source": [
    "model.evaluate(test_data)"
   ]
  },
  {
   "cell_type": "code",
   "execution_count": null,
   "id": "655e0e19",
   "metadata": {
    "execution": {
     "iopub.execute_input": "2025-02-18T22:16:49.237879Z",
     "iopub.status.busy": "2025-02-18T22:16:49.237498Z",
     "iopub.status.idle": "2025-02-18T22:16:51.091129Z",
     "shell.execute_reply": "2025-02-18T22:16:51.089830Z",
     "shell.execute_reply.started": "2025-02-18T22:16:49.237841Z"
    },
    "papermill": {
     "duration": null,
     "end_time": null,
     "exception": null,
     "start_time": null,
     "status": "pending"
    },
    "tags": []
   },
   "outputs": [],
   "source": [
    "predictions = model.predict(test_data)\n",
    "predicted_classes = np.argmax(predictions, axis=1)  \n",
    "actual_classes = test_data.classes             \n",
    "\n",
    "\n",
    "class_labels = list(test_data.class_indices.keys())  # Class names\n",
    "\n",
    "for i in range(2):\n",
    "    img, label = test_data[i] \n",
    "    actual_label = class_labels[actual_classes[i]]\n",
    "    predicted_label = class_labels[predicted_classes[i]]\n",
    "\n",
    "    plt.imshow(img[0])\n",
    "    plt.title(f\"Actual: {actual_label}, Predicted: {predicted_label}\")\n",
    "    plt.axis('off')\n",
    "    plt.show()"
   ]
  },
  {
   "cell_type": "code",
   "execution_count": null,
   "id": "56297a87",
   "metadata": {},
   "outputs": [],
   "source": []
  }
 ],
 "metadata": {
  "kaggle": {
   "accelerator": "nvidiaTeslaT4",
   "dataSources": [
    {
     "datasetId": 5352553,
     "sourceId": 10305459,
     "sourceType": "datasetVersion"
    }
   ],
   "dockerImageVersionId": 30762,
   "isGpuEnabled": true,
   "isInternetEnabled": true,
   "language": "python",
   "sourceType": "notebook"
  },
  "kernelspec": {
   "display_name": "Python 3",
   "language": "python",
   "name": "python3"
  },
  "language_info": {
   "codemirror_mode": {
    "name": "ipython",
    "version": 3
   },
   "file_extension": ".py",
   "mimetype": "text/x-python",
   "name": "python",
   "nbconvert_exporter": "python",
   "pygments_lexer": "ipython3",
   "version": "3.10.14"
  },
  "papermill": {
   "default_parameters": {},
   "duration": null,
   "end_time": null,
   "environment_variables": {},
   "exception": null,
   "input_path": "__notebook__.ipynb",
   "output_path": "__notebook__.ipynb",
   "parameters": {},
   "start_time": "2025-02-18T22:22:28.356691",
   "version": "2.6.0"
  }
 },
 "nbformat": 4,
 "nbformat_minor": 5
}
